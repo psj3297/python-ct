{
  "cells": [
    {
      "cell_type": "markdown",
      "metadata": {
        "id": "view-in-github",
        "colab_type": "text"
      },
      "source": [
        "<a href=\"https://colab.research.google.com/github/psj3297/python-ct/blob/new-branch/241112.ipynb\" target=\"_parent\"><img src=\"https://colab.research.google.com/assets/colab-badge.svg\" alt=\"Open In Colab\"/></a>"
      ]
    },
    {
      "cell_type": "code",
      "source": [
        "import sys\n",
        "sys.stdin = open(\"input.txt\", \"r\")  # 파일을 읽기 위해 sys.stdin을 설정\n",
        "\n",
        "T = int(sys.stdin.readline())\n",
        "\n",
        "for test_case in range(1, T + 1):\n",
        "    b = 0\n",
        "    a = list(map(int, sys.stdin.readline().split()))  # 한 줄씩 읽어오기\n",
        "    for num in a:\n",
        "        if num % 2 != 0:\n",
        "            b += num\n",
        "    print(\"#%d %d\" % (test_case, b), end=\" \\n\")\n"
      ],
      "metadata": {
        "id": "NSgzCaiXsxFH",
        "outputId": "0cbd8511-46eb-4deb-a331-7c5748190484",
        "colab": {
          "base_uri": "https://localhost:8080/"
        }
      },
      "execution_count": null,
      "outputs": [
        {
          "output_type": "stream",
          "name": "stdout",
          "text": [
            "#1 200 \n",
            "#2 208 \n",
            "#3 121 \n"
          ]
        }
      ]
    },
    {
      "cell_type": "markdown",
      "source": [
        " **한줄에 홀수만 읽어서추가**"
      ],
      "metadata": {
        "id": "W-GTrCA9vG4M"
      }
    }
  ],
  "metadata": {
    "colab": {
      "provenance": [],
      "include_colab_link": true
    },
    "kernelspec": {
      "display_name": "Python 3",
      "name": "python3"
    }
  },
  "nbformat": 4,
  "nbformat_minor": 0
}