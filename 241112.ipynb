{
  "cells": [
    {
      "cell_type": "markdown",
      "metadata": {
        "id": "view-in-github",
        "colab_type": "text"
      },
      "source": [
        "<a href=\"https://colab.research.google.com/github/psj3297/python-ct/blob/new-branch/241112.ipynb\" target=\"_parent\"><img src=\"https://colab.research.google.com/assets/colab-badge.svg\" alt=\"Open In Colab\"/></a>"
      ]
    },
    {
      "cell_type": "code",
      "source": [
        "import sys\n",
        "sys.stdin = open(\"input.txt\", \"r\")  # 파일을 읽기 위해 sys.stdin을 설정\n",
        "\n",
        "T = int(sys.stdin.readline())\n",
        "\n",
        "for test_case in range(1, T + 1):\n",
        "    b = 0\n",
        "    a = list(map(int, sys.stdin.readline().split()))  # 한 줄씩 읽어오기\n",
        "    for num in a:\n",
        "        if num % 2 != 0:\n",
        "            b += num\n",
        "    print(\"#%d %d\" % (test_case, b), end=\" \\n\")\n"
      ],
      "metadata": {
        "id": "NSgzCaiXsxFH",
        "outputId": "0cbd8511-46eb-4deb-a331-7c5748190484",
        "colab": {
          "base_uri": "https://localhost:8080/"
        }
      },
      "execution_count": null,
      "outputs": [
        {
          "output_type": "stream",
          "name": "stdout",
          "text": [
            "#1 200 \n",
            "#2 208 \n",
            "#3 121 \n"
          ]
        }
      ]
    },
    {
      "cell_type": "markdown",
      "source": [
        " **한줄에 홀수만 읽어서추가**"
      ],
      "metadata": {
        "id": "W-GTrCA9vG4M"
      }
    },
    {
      "cell_type": "code",
      "source": [
        "import sys\n",
        "sys.stdin = open(\"input (1).txt\", \"r\")\n",
        "\n",
        "T = int(sys.stdin.readline())\n",
        "# 여러개의 테스트 케이스가 주어지므로, 각각을 처리합니다.\n",
        "for test_case in range(1, T + 1):\n",
        "    # ///////////////////////////////////////////////////////////////////////////////////\n",
        "    N = int(sys.stdin.readline()) #N일\n",
        "    prices = list(map(int, sys.stdin.readline().split()))  # 각 날의 매매가 리스트\n",
        "\n",
        "    max_profit = 0 # 최대 이익 초기화\n",
        "    max_price = 0 # 최대 가격 초기화\n",
        "\n",
        "    # 뒤에서 부터 탐색\n",
        "    for price in reversed(prices):\n",
        "      if price > max_price:\n",
        "        max_price = price\n",
        "      max_profit += max_price - price\n",
        "\n",
        "    print(f'#{test_case} {max_profit}')\n",
        "    # ///////////////////////////////////////////////////////////////////////////////////\n"
      ],
      "metadata": {
        "colab": {
          "base_uri": "https://localhost:8080/"
        },
        "id": "uUopOyq-B0Oi",
        "outputId": "57a7400b-1e84-4765-bf58-56a62d2ec111"
      },
      "execution_count": 33,
      "outputs": [
        {
          "output_type": "stream",
          "name": "stdout",
          "text": [
            "#1 4053\n",
            "#2 6385\n",
            "#3 26725\n",
            "#4 211514\n",
            "#5 4848198\n",
            "#6 49761546\n",
            "#7 500155606\n",
            "#8 4995241394\n",
            "#9 4999367498\n",
            "#10 4995633799\n"
          ]
        }
      ]
    },
    {
      "cell_type": "markdown",
      "source": [
        "1859. 백만 장자 프로젝트"
      ],
      "metadata": {
        "id": "JUMDxKfbLJzu"
      }
    }
  ],
  "metadata": {
    "colab": {
      "provenance": [],
      "include_colab_link": true
    },
    "kernelspec": {
      "display_name": "Python 3",
      "name": "python3"
    }
  },
  "nbformat": 4,
  "nbformat_minor": 0
}